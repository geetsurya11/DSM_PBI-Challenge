{
 "cells": [
  {
   "cell_type": "code",
   "execution_count": null,
   "id": "7eefb87f-a577-4002-b20e-42335a6a0608",
   "metadata": {},
   "outputs": [],
   "source": []
  },
  {
   "cell_type": "code",
   "execution_count": 3,
   "id": "78ce2224-6bab-461e-88f8-15d411ac8234",
   "metadata": {},
   "outputs": [
    {
     "name": "stdout",
     "output_type": "stream",
     "text": [
      "Requirement already satisfied: pandas in c:\\users\\admin\\anaconda3\\lib\\site-packages (1.3.4)\n",
      "Requirement already satisfied: numpy>=1.17.3 in c:\\users\\admin\\anaconda3\\lib\\site-packages (from pandas) (1.20.3)\n",
      "Requirement already satisfied: pytz>=2017.3 in c:\\users\\admin\\anaconda3\\lib\\site-packages (from pandas) (2021.3)\n",
      "Requirement already satisfied: python-dateutil>=2.7.3 in c:\\users\\admin\\anaconda3\\lib\\site-packages (from pandas) (2.8.2)\n",
      "Requirement already satisfied: six>=1.5 in c:\\users\\admin\\anaconda3\\lib\\site-packages (from python-dateutil>=2.7.3->pandas) (1.16.0)\n",
      "Note: you may need to restart the kernel to use updated packages.\n"
     ]
    }
   ],
   "source": [
    "pip install pandas"
   ]
  },
  {
   "cell_type": "code",
   "execution_count": 4,
   "id": "48bdf30f-a3a7-42e7-b022-c8c8f5d646df",
   "metadata": {},
   "outputs": [
    {
     "name": "stdout",
     "output_type": "stream",
     "text": [
      "Collecting Faker\n",
      "  Downloading Faker-19.10.0-py3-none-any.whl (1.7 MB)\n",
      "Requirement already satisfied: python-dateutil>=2.4 in c:\\users\\admin\\anaconda3\\lib\\site-packages (from Faker) (2.8.2)\n",
      "Requirement already satisfied: six>=1.5 in c:\\users\\admin\\anaconda3\\lib\\site-packages (from python-dateutil>=2.4->Faker) (1.16.0)\n",
      "Installing collected packages: Faker\n",
      "Successfully installed Faker-19.10.0\n",
      "Note: you may need to restart the kernel to use updated packages.\n"
     ]
    }
   ],
   "source": [
    "pip install Faker"
   ]
  },
  {
   "cell_type": "code",
   "execution_count": 1,
   "id": "2e32e947-a80d-4712-9c1c-f38a75e47f96",
   "metadata": {},
   "outputs": [],
   "source": [
    "import pandas as pd\n",
    "from faker import Faker\n",
    "import random\n",
    "import datetime\n",
    "\n",
    "# Create a Faker object for generating fake data\n",
    "fake = Faker()\n",
    "\n",
    "# Generate data for 1000 rows\n",
    "num_rows = 1000\n",
    "\n",
    "# Generate date range for 10 weeks\n",
    "start_date = datetime.date(2023, 1, 1)\n",
    "end_date = datetime.date(2023, 3, 11)\n",
    "date_range = [start_date + datetime.timedelta(days=x) for x in range((end_date-start_date).days + 1)]\n",
    "\n",
    "# Create an empty DataFrame\n",
    "df = pd.DataFrame(columns=[\"Date\", \"Revenue\", \"Units Sold\", \"Average Order Value\", \"Product Category\", \"City\", \"Product Name\"])\n",
    "\n",
    "# Generate fake data for the specified metrics and columns\n",
    "for i in range(num_rows):\n",
    "    date = random.choice(date_range)\n",
    "    revenue = random.randint(1000, 10000)\n",
    "    units_sold = random.randint(50, 200)\n",
    "    avg_order_value = round(revenue / units_sold, 2)\n",
    "    product_category = fake.word()\n",
    "    city = fake.city()\n",
    "    product_name = fake.word()\n",
    "    \n",
    "    df = df.append({\"Date\": date, \"Revenue\": revenue, \"Units Sold\": units_sold, \n",
    "                    \"Average Order Value\": avg_order_value, \"Product Category\": product_category,\n",
    "                    \"City\": city, \"Product Name\": product_name}, ignore_index=True)\n",
    "\n",
    "# Save the DataFrame to a CSV file\n",
    "df.to_csv(\"sales_performance_data.csv\", index=False)"
   ]
  },
  {
   "cell_type": "code",
   "execution_count": 4,
   "id": "3ae95e83-f5f2-48e4-b062-8435fe4716c3",
   "metadata": {},
   "outputs": [
    {
     "name": "stdout",
     "output_type": "stream",
     "text": [
      "Generated data for 1000 rows and saved to 'sales_performance_data1.csv'.\n"
     ]
    }
   ],
   "source": [
    "import pandas as pd\n",
    "from faker import Faker\n",
    "import random\n",
    "\n",
    "# Create a Faker instance to generate fake data\n",
    "fake = Faker()\n",
    "\n",
    "# Number of rows to generate (at least 1000)\n",
    "num_rows = 1000\n",
    "\n",
    "# Create a list to store data\n",
    "data = []\n",
    "\n",
    "# Generate data for each row\n",
    "for _ in range(num_rows):\n",
    "    revenue = round(random.uniform(100, 10000), 2)\n",
    "    units_sold = random.randint(1, 100)\n",
    "    average_order_value = round(revenue / units_sold, 2)\n",
    "\n",
    "    product_category = fake.word()\n",
    "    region = fake.state()\n",
    "    product_name = fake.word()\n",
    "\n",
    "    data.append([revenue, units_sold, average_order_value, product_category, region, product_name])\n",
    "\n",
    "# Create a DataFrame\n",
    "df = pd.DataFrame(data, columns=['Revenue', 'Units Sold', 'Average Order Value', 'Product Category', 'Region', 'Product Name'])\n",
    "\n",
    "# Save the data to a CSV file\n",
    "df.to_csv('sales_performance_data1.csv', index=False)\n",
    "\n",
    "print(f\"Generated data for {num_rows} rows and saved to 'sales_performance_data1.csv'.\")\n"
   ]
  },
  {
   "cell_type": "code",
   "execution_count": 1,
   "id": "8ea7a61d-d5c5-4e6d-851f-1c1484ecd576",
   "metadata": {},
   "outputs": [
    {
     "ename": "UniquenessException",
     "evalue": "Got duplicated values after 1,000 iterations.",
     "output_type": "error",
     "traceback": [
      "\u001b[1;31m---------------------------------------------------------------------------\u001b[0m",
      "\u001b[1;31mUniquenessException\u001b[0m                       Traceback (most recent call last)",
      "\u001b[1;32m~\\AppData\\Local\\Temp/ipykernel_1868/3786506578.py\u001b[0m in \u001b[0;36m<module>\u001b[1;34m\u001b[0m\n\u001b[0;32m     27\u001b[0m         \u001b[0mproduct_category\u001b[0m \u001b[1;33m=\u001b[0m \u001b[0mrandom\u001b[0m\u001b[1;33m.\u001b[0m\u001b[0mchoice\u001b[0m\u001b[1;33m(\u001b[0m\u001b[0mproduct_categories\u001b[0m\u001b[1;33m)\u001b[0m\u001b[1;33m\u001b[0m\u001b[1;33m\u001b[0m\u001b[0m\n\u001b[0;32m     28\u001b[0m         \u001b[0mregion\u001b[0m \u001b[1;33m=\u001b[0m \u001b[0mrandom\u001b[0m\u001b[1;33m.\u001b[0m\u001b[0mchoice\u001b[0m\u001b[1;33m(\u001b[0m\u001b[0mregions\u001b[0m\u001b[1;33m)\u001b[0m\u001b[1;33m\u001b[0m\u001b[1;33m\u001b[0m\u001b[0m\n\u001b[1;32m---> 29\u001b[1;33m         \u001b[0mproduct_name\u001b[0m \u001b[1;33m=\u001b[0m \u001b[0mfake\u001b[0m\u001b[1;33m.\u001b[0m\u001b[0munique\u001b[0m\u001b[1;33m.\u001b[0m\u001b[0mword\u001b[0m\u001b[1;33m(\u001b[0m\u001b[1;33m)\u001b[0m\u001b[1;33m\u001b[0m\u001b[1;33m\u001b[0m\u001b[0m\n\u001b[0m\u001b[0;32m     30\u001b[0m         \u001b[0mvalue\u001b[0m \u001b[1;33m=\u001b[0m \u001b[0mrandom\u001b[0m\u001b[1;33m.\u001b[0m\u001b[0muniform\u001b[0m\u001b[1;33m(\u001b[0m\u001b[1;36m1\u001b[0m\u001b[1;33m,\u001b[0m \u001b[1;36m10000\u001b[0m\u001b[1;33m)\u001b[0m\u001b[1;33m\u001b[0m\u001b[1;33m\u001b[0m\u001b[0m\n\u001b[0;32m     31\u001b[0m \u001b[1;33m\u001b[0m\u001b[0m\n",
      "\u001b[1;32m~\\anaconda3\\lib\\site-packages\\faker\\proxy.py\u001b[0m in \u001b[0;36mwrapper\u001b[1;34m(*args, **kwargs)\u001b[0m\n\u001b[0;32m    323\u001b[0m                 \u001b[0mretval\u001b[0m \u001b[1;33m=\u001b[0m \u001b[0mfunction\u001b[0m\u001b[1;33m(\u001b[0m\u001b[1;33m*\u001b[0m\u001b[0margs\u001b[0m\u001b[1;33m,\u001b[0m \u001b[1;33m**\u001b[0m\u001b[0mkwargs\u001b[0m\u001b[1;33m)\u001b[0m\u001b[1;33m\u001b[0m\u001b[1;33m\u001b[0m\u001b[0m\n\u001b[0;32m    324\u001b[0m             \u001b[1;32melse\u001b[0m\u001b[1;33m:\u001b[0m\u001b[1;33m\u001b[0m\u001b[1;33m\u001b[0m\u001b[0m\n\u001b[1;32m--> 325\u001b[1;33m                 \u001b[1;32mraise\u001b[0m \u001b[0mUniquenessException\u001b[0m\u001b[1;33m(\u001b[0m\u001b[1;34mf\"Got duplicated values after {_UNIQUE_ATTEMPTS:,} iterations.\"\u001b[0m\u001b[1;33m)\u001b[0m\u001b[1;33m\u001b[0m\u001b[1;33m\u001b[0m\u001b[0m\n\u001b[0m\u001b[0;32m    326\u001b[0m \u001b[1;33m\u001b[0m\u001b[0m\n\u001b[0;32m    327\u001b[0m             \u001b[0mgenerated\u001b[0m\u001b[1;33m.\u001b[0m\u001b[0madd\u001b[0m\u001b[1;33m(\u001b[0m\u001b[0mretval\u001b[0m\u001b[1;33m)\u001b[0m\u001b[1;33m\u001b[0m\u001b[1;33m\u001b[0m\u001b[0m\n",
      "\u001b[1;31mUniquenessException\u001b[0m: Got duplicated values after 1,000 iterations."
     ]
    }
   ],
   "source": [
    "import csv\n",
    "import random\n",
    "from faker import Faker\n",
    "\n",
    "# Initialize Faker for generating fake data\n",
    "fake = Faker()\n",
    "\n",
    "# Define the number of rows (at least 1000)\n",
    "num_rows = 1000\n",
    "\n",
    "# Define the KPI Metrics\n",
    "kpi_metrics = [\"Revenue\", \"Units Sold\", \"Average Order Value\"]\n",
    "\n",
    "# Define the product categories and regions\n",
    "product_categories = [\"Electronics\", \"Clothing\", \"Home Appliances\", \"Books\", \"Toys\"]\n",
    "regions = [\"Northeast\", \"Southeast\", \"Midwest\", \"Southwest\", \"West\"]\n",
    "\n",
    "# Generate fake data and write to CSV file\n",
    "with open('sales_data.csv', 'w', newline='') as csvfile:\n",
    "    fieldnames = [\"Date\", \"KPI Metric\", \"Product Category\", \"Region\", \"Product Name\", \"Value\"]\n",
    "    writer = csv.DictWriter(csvfile, fieldnames=fieldnames)\n",
    "    writer.writeheader()\n",
    "\n",
    "    for _ in range(num_rows):\n",
    "        date = fake.date_between(start_date='-365d', end_date='today')\n",
    "        kpi_metric = random.choice(kpi_metrics)\n",
    "        product_category = random.choice(product_categories)\n",
    "        region = random.choice(regions)\n",
    "        product_name = fake.unique.word()\n",
    "        value = random.uniform(1, 10000)\n",
    "        \n",
    "        writer.writerow({\n",
    "            \"Date\": date,\n",
    "            \"KPI Metric\": kpi_metric,\n",
    "            \"Product Category\": product_category,\n",
    "            \"Region\": region,\n",
    "            \"Product Name\": product_name,\n",
    "            \"Value\": value\n",
    "        })\n"
   ]
  },
  {
   "cell_type": "code",
   "execution_count": null,
   "id": "684b80ad-40f2-4a62-b0c7-3e370380ae38",
   "metadata": {},
   "outputs": [],
   "source": []
  }
 ],
 "metadata": {
  "kernelspec": {
   "display_name": "Python 3 (ipykernel)",
   "language": "python",
   "name": "python3"
  },
  "language_info": {
   "codemirror_mode": {
    "name": "ipython",
    "version": 3
   },
   "file_extension": ".py",
   "mimetype": "text/x-python",
   "name": "python",
   "nbconvert_exporter": "python",
   "pygments_lexer": "ipython3",
   "version": "3.9.7"
  }
 },
 "nbformat": 4,
 "nbformat_minor": 5
}
